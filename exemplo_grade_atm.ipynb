{
 "cells": [
  {
   "cell_type": "code",
   "execution_count": 1,
   "metadata": {},
   "outputs": [],
   "source": [
    "from libs import grade\n",
    "from libs.calculos import atmosfera as atm\n",
    "import os\n",
    "\n",
    "import warnings\n",
    "warnings.filterwarnings(action=\"ignore\")"
   ]
  },
  {
   "cell_type": "markdown",
   "metadata": {},
   "source": [
    "# libs.grade"
   ]
  },
  {
   "cell_type": "code",
   "execution_count": 2,
   "metadata": {},
   "outputs": [],
   "source": [
    "entrada_dir = os.path.join(os.getcwd(), \"entrada\", \"dados\", \"precip.mon.mean.nc\")\n",
    "ds = grade.fit(entrada_dir)"
   ]
  },
  {
   "cell_type": "code",
   "execution_count": 3,
   "metadata": {
    "jupyter": {
     "source_hidden": true
    }
   },
   "outputs": [
    {
     "data": {
      "text/plain": [
       "'precip'"
      ]
     },
     "execution_count": 3,
     "metadata": {},
     "output_type": "execute_result"
    }
   ],
   "source": [
    "ds.variavel"
   ]
  },
  {
   "cell_type": "markdown",
   "metadata": {},
   "source": [
    "## libs.grade.Grade"
   ]
  },
  {
   "cell_type": "markdown",
   "metadata": {},
   "source": [
    "### Visualização do dado original"
   ]
  },
  {
   "cell_type": "markdown",
   "metadata": {},
   "source": [
    "#### Agrupamento pela média"
   ]
  },
  {
   "cell_type": "code",
   "execution_count": 4,
   "metadata": {
    "jupyter": {
     "source_hidden": true
    }
   },
   "outputs": [
    {
     "data": {
      "text/plain": [
       "array(['1979-01-01T00:00:00.000000000', '1980-01-01T00:00:00.000000000',\n",
       "       '1981-01-01T00:00:00.000000000', '1982-01-01T00:00:00.000000000',\n",
       "       '1983-01-01T00:00:00.000000000'], dtype='datetime64[ns]')"
      ]
     },
     "execution_count": 4,
     "metadata": {},
     "output_type": "execute_result"
    }
   ],
   "source": [
    "ds.agruparMedia(freq=\"YS\").time.values[0:5]"
   ]
  },
  {
   "cell_type": "markdown",
   "metadata": {},
   "source": [
    "#### Recortando um período de tempo (série temporal)"
   ]
  },
  {
   "cell_type": "code",
   "execution_count": 5,
   "metadata": {
    "jupyter": {
     "source_hidden": true
    }
   },
   "outputs": [
    {
     "name": "stdout",
     "output_type": "stream",
     "text": [
      "1980-01-01T00:00:00.000000000 1990-01-01T00:00:00.000000000\n"
     ]
    }
   ],
   "source": [
    "recorte_intervalo = ds.recorteIntervalo(['1980-01-01', '1990-01-01'])\n",
    "\n",
    "print(recorte_intervalo.time.values[0], recorte_intervalo.time.values[-1])"
   ]
  },
  {
   "cell_type": "markdown",
   "metadata": {},
   "source": [
    "#### Recortando um período intra-anual"
   ]
  },
  {
   "cell_type": "code",
   "execution_count": 6,
   "metadata": {
    "jupyter": {
     "source_hidden": true
    }
   },
   "outputs": [
    {
     "name": "stdout",
     "output_type": "stream",
     "text": [
      "['1979-01-01T00:00:00.000000000' '1979-02-01T00:00:00.000000000'\n",
      " '1979-03-01T00:00:00.000000000' '1980-01-01T00:00:00.000000000'\n",
      " '1980-02-01T00:00:00.000000000' '1980-03-01T00:00:00.000000000'\n",
      " '1981-01-01T00:00:00.000000000']\n"
     ]
    }
   ],
   "source": [
    "recorte_ano = ds.recorteAno([1, 2, 3])\n",
    "\n",
    "print(recorte_ano.time.values[:7])"
   ]
  },
  {
   "cell_type": "markdown",
   "metadata": {},
   "source": [
    "#### Atribuindo atributos etc"
   ]
  },
  {
   "cell_type": "code",
   "execution_count": 7,
   "metadata": {
    "jupyter": {
     "source_hidden": true
    }
   },
   "outputs": [
    {
     "data": {
      "text/plain": [
       "'valor_qualquer'"
      ]
     },
     "execution_count": 7,
     "metadata": {},
     "output_type": "execute_result"
    }
   ],
   "source": [
    "ds.atribuir({\"atributo_qualquer\": \"valor_qualquer\"})\n",
    "ds.dataset.attrs['atributo_qualquer']"
   ]
  },
  {
   "cell_type": "markdown",
   "metadata": {},
   "source": [
    "#### Obtendo a média de longo termo"
   ]
  },
  {
   "cell_type": "code",
   "execution_count": 8,
   "metadata": {
    "jupyter": {
     "source_hidden": true
    }
   },
   "outputs": [
    {
     "data": {
      "text/html": [
       "<pre>&lt;xarray.Dataset&gt;\n",
       "Dimensions:   (lat: 72, lon: 144, month: 12, nv: 2)\n",
       "Coordinates:\n",
       "  * lat       (lat) float32 -88.75 -86.25 -83.75 -81.25 ... 83.75 86.25 88.75\n",
       "  * lon       (lon) float32 1.25 3.75 6.25 8.75 ... 351.25 353.75 356.25 358.75\n",
       "  * month     (month) int64 1 2 3 4 5 6 7 8 9 10 11 12\n",
       "Dimensions without coordinates: nv\n",
       "Data variables:\n",
       "    lat_bnds  (month, lat, nv) float32 -90.0 -87.5 -87.5 ... 87.5 87.5 90.0\n",
       "    lon_bnds  (month, lon, nv) float32 0.0 2.5 2.5 5.0 ... 357.5 357.5 360.0\n",
       "    precip    (month, lat, lon) float32 0.019888235 0.032399096 ... 0.36048853</pre>"
      ],
      "text/plain": [
       "<xarray.Dataset>\n",
       "Dimensions:   (lat: 72, lon: 144, month: 12, nv: 2)\n",
       "Coordinates:\n",
       "  * lat       (lat) float32 -88.75 -86.25 -83.75 -81.25 ... 83.75 86.25 88.75\n",
       "  * lon       (lon) float32 1.25 3.75 6.25 8.75 ... 351.25 353.75 356.25 358.75\n",
       "  * month     (month) int64 1 2 3 4 5 6 7 8 9 10 11 12\n",
       "Dimensions without coordinates: nv\n",
       "Data variables:\n",
       "    lat_bnds  (month, lat, nv) float32 -90.0 -87.5 -87.5 ... 87.5 87.5 90.0\n",
       "    lon_bnds  (month, lon, nv) float32 0.0 2.5 2.5 5.0 ... 357.5 357.5 360.0\n",
       "    precip    (month, lat, lon) float32 0.019888235 0.032399096 ... 0.36048853"
      ]
     },
     "execution_count": 8,
     "metadata": {},
     "output_type": "execute_result"
    }
   ],
   "source": [
    "ds.mlt(freq='month', periodos = ['1979-01-01', '2010-01-01'])"
   ]
  },
  {
   "cell_type": "markdown",
   "metadata": {},
   "source": [
    "#### Obtendo anomalias"
   ]
  },
  {
   "cell_type": "markdown",
   "metadata": {},
   "source": [
    "##### Média entre dois períodos"
   ]
  },
  {
   "cell_type": "code",
   "execution_count": 9,
   "metadata": {
    "jupyter": {
     "source_hidden": true
    }
   },
   "outputs": [
    {
     "data": {
      "text/html": [
       "<pre>&lt;xarray.Dataset&gt;\n",
       "Dimensions:   (lat: 72, lon: 144, month: 12, nv: 2)\n",
       "Coordinates:\n",
       "  * lat       (lat) float32 -88.75 -86.25 -83.75 -81.25 ... 83.75 86.25 88.75\n",
       "  * lon       (lon) float32 1.25 3.75 6.25 8.75 ... 351.25 353.75 356.25 358.75\n",
       "  * month     (month) int64 1 2 3 4 5 6 7 8 9 10 11 12\n",
       "Dimensions without coordinates: nv\n",
       "Data variables:\n",
       "    lat_bnds  (month, lat, nv) float32 0.0 0.0 0.0 0.0 0.0 ... 0.0 0.0 0.0 0.0\n",
       "    lon_bnds  (month, lon, nv) float32 0.0 0.0 0.0 0.0 0.0 ... 0.0 0.0 0.0 0.0\n",
       "    precip    (month, lat, lon) float32 0.001752913 ... 0.0028321445</pre>"
      ],
      "text/plain": [
       "<xarray.Dataset>\n",
       "Dimensions:   (lat: 72, lon: 144, month: 12, nv: 2)\n",
       "Coordinates:\n",
       "  * lat       (lat) float32 -88.75 -86.25 -83.75 -81.25 ... 83.75 86.25 88.75\n",
       "  * lon       (lon) float32 1.25 3.75 6.25 8.75 ... 351.25 353.75 356.25 358.75\n",
       "  * month     (month) int64 1 2 3 4 5 6 7 8 9 10 11 12\n",
       "Dimensions without coordinates: nv\n",
       "Data variables:\n",
       "    lat_bnds  (month, lat, nv) float32 0.0 0.0 0.0 0.0 0.0 ... 0.0 0.0 0.0 0.0\n",
       "    lon_bnds  (month, lon, nv) float32 0.0 0.0 0.0 0.0 0.0 ... 0.0 0.0 0.0 0.0\n",
       "    precip    (month, lat, lon) float32 0.001752913 ... 0.0028321445"
      ]
     },
     "execution_count": 9,
     "metadata": {},
     "output_type": "execute_result"
    }
   ],
   "source": [
    "ds.anomalia(freq='month', \n",
    "            periodos = ['1979-01-01', '2020-01-01'], \n",
    "            bases = ['1979-01-01', '2010-01-01'],\n",
    "            serie = False)"
   ]
  },
  {
   "cell_type": "markdown",
   "metadata": {},
   "source": [
    "##### Série total de anomalias"
   ]
  },
  {
   "cell_type": "code",
   "execution_count": 10,
   "metadata": {
    "jupyter": {
     "source_hidden": true
    }
   },
   "outputs": [
    {
     "data": {
      "text/html": [
       "<pre>&lt;xarray.Dataset&gt;\n",
       "Dimensions:   (lat: 72, lon: 144, month: 12, nv: 2, time: 493)\n",
       "Coordinates:\n",
       "  * lat       (lat) float32 -88.75 -86.25 -83.75 -81.25 ... 83.75 86.25 88.75\n",
       "  * lon       (lon) float32 1.25 3.75 6.25 8.75 ... 351.25 353.75 356.25 358.75\n",
       "  * time      (time) datetime64[ns] 1979-01-01 1979-02-01 ... 2020-01-01\n",
       "  * month     (month) int64 1 2 3 4 5 6 7 8 9 10 11 12\n",
       "Dimensions without coordinates: nv\n",
       "Data variables:\n",
       "    lat_bnds  (lat, nv, month) float32 0.0 0.0 0.0 0.0 0.0 ... 0.0 0.0 0.0 0.0\n",
       "    lon_bnds  (lon, nv, month) float32 0.0 0.0 0.0 0.0 0.0 ... 0.0 0.0 0.0 0.0\n",
       "    precip    (time, lat, lon, month) float32 -0.019888235 ... 0.027797103</pre>"
      ],
      "text/plain": [
       "<xarray.Dataset>\n",
       "Dimensions:   (lat: 72, lon: 144, month: 12, nv: 2, time: 493)\n",
       "Coordinates:\n",
       "  * lat       (lat) float32 -88.75 -86.25 -83.75 -81.25 ... 83.75 86.25 88.75\n",
       "  * lon       (lon) float32 1.25 3.75 6.25 8.75 ... 351.25 353.75 356.25 358.75\n",
       "  * time      (time) datetime64[ns] 1979-01-01 1979-02-01 ... 2020-01-01\n",
       "  * month     (month) int64 1 2 3 4 5 6 7 8 9 10 11 12\n",
       "Dimensions without coordinates: nv\n",
       "Data variables:\n",
       "    lat_bnds  (lat, nv, month) float32 0.0 0.0 0.0 0.0 0.0 ... 0.0 0.0 0.0 0.0\n",
       "    lon_bnds  (lon, nv, month) float32 0.0 0.0 0.0 0.0 0.0 ... 0.0 0.0 0.0 0.0\n",
       "    precip    (time, lat, lon, month) float32 -0.019888235 ... 0.027797103"
      ]
     },
     "execution_count": 10,
     "metadata": {},
     "output_type": "execute_result"
    }
   ],
   "source": [
    "ds.anomalia(freq='month', \n",
    "            periodos = ['1979-01-01', '2020-01-01'], \n",
    "            bases = ['1979-01-01', '2010-01-01'],\n",
    "            serie = True)"
   ]
  },
  {
   "cell_type": "markdown",
   "metadata": {},
   "source": [
    "#### Sazonalidade (por ano)"
   ]
  },
  {
   "cell_type": "code",
   "execution_count": 11,
   "metadata": {
    "jupyter": {
     "source_hidden": true
    }
   },
   "outputs": [
    {
     "data": {
      "text/html": [
       "<pre>&lt;xarray.Dataset&gt;\n",
       "Dimensions:   (lat: 72, lon: 144, nv: 2, season: 4, time: 42)\n",
       "Coordinates:\n",
       "  * season    (season) object &#x27;DJF&#x27; &#x27;JJA&#x27; &#x27;MAM&#x27; &#x27;SON&#x27;\n",
       "  * lat       (lat) float32 -88.75 -86.25 -83.75 -81.25 ... 83.75 86.25 88.75\n",
       "  * lon       (lon) float32 1.25 3.75 6.25 8.75 ... 351.25 353.75 356.25 358.75\n",
       "  * time      (time) int64 1979 1980 1981 1982 1983 ... 2016 2017 2018 2019 2020\n",
       "Dimensions without coordinates: nv\n",
       "Data variables:\n",
       "    lat_bnds  (time, season, lat, nv) float32 -90.0 -87.5 -87.5 ... 87.5 90.0\n",
       "    lon_bnds  (time, season, lon, nv) float32 0.0 2.5 2.5 ... 357.5 357.5 360.0\n",
       "    precip    (time, season, lat, lon) float32 0.12273553 ... 0.619289</pre>"
      ],
      "text/plain": [
       "<xarray.Dataset>\n",
       "Dimensions:   (lat: 72, lon: 144, nv: 2, season: 4, time: 42)\n",
       "Coordinates:\n",
       "  * season    (season) object 'DJF' 'JJA' 'MAM' 'SON'\n",
       "  * lat       (lat) float32 -88.75 -86.25 -83.75 -81.25 ... 83.75 86.25 88.75\n",
       "  * lon       (lon) float32 1.25 3.75 6.25 8.75 ... 351.25 353.75 356.25 358.75\n",
       "  * time      (time) int64 1979 1980 1981 1982 1983 ... 2016 2017 2018 2019 2020\n",
       "Dimensions without coordinates: nv\n",
       "Data variables:\n",
       "    lat_bnds  (time, season, lat, nv) float32 -90.0 -87.5 -87.5 ... 87.5 90.0\n",
       "    lon_bnds  (time, season, lon, nv) float32 0.0 2.5 2.5 ... 357.5 357.5 360.0\n",
       "    precip    (time, season, lat, lon) float32 0.12273553 ... 0.619289"
      ]
     },
     "execution_count": 11,
     "metadata": {},
     "output_type": "execute_result"
    }
   ],
   "source": [
    "ds.sazonalidade()"
   ]
  },
  {
   "cell_type": "markdown",
   "metadata": {},
   "source": [
    "#### Média regional"
   ]
  },
  {
   "cell_type": "code",
   "execution_count": 12,
   "metadata": {
    "jupyter": {
     "source_hidden": true
    }
   },
   "outputs": [
    {
     "data": {
      "text/html": [
       "<pre>&lt;xarray.Dataset&gt;\n",
       "Dimensions:   (nv: 2, time: 503)\n",
       "Coordinates:\n",
       "  * time      (time) datetime64[ns] 1979-01-01 1979-02-01 ... 2020-11-01\n",
       "Dimensions without coordinates: nv\n",
       "Data variables:\n",
       "    lat_bnds  (nv) float32 -1.25 1.25\n",
       "    lon_bnds  (nv) float32 178.75 181.25\n",
       "    precip    (time) float32 2.2292774 2.2804472 ... 2.2502131 2.258217</pre>"
      ],
      "text/plain": [
       "<xarray.Dataset>\n",
       "Dimensions:   (nv: 2, time: 503)\n",
       "Coordinates:\n",
       "  * time      (time) datetime64[ns] 1979-01-01 1979-02-01 ... 2020-11-01\n",
       "Dimensions without coordinates: nv\n",
       "Data variables:\n",
       "    lat_bnds  (nv) float32 -1.25 1.25\n",
       "    lon_bnds  (nv) float32 178.75 181.25\n",
       "    precip    (time) float32 2.2292774 2.2804472 ... 2.2502131 2.258217"
      ]
     },
     "execution_count": 12,
     "metadata": {},
     "output_type": "execute_result"
    }
   ],
   "source": [
    "ds.aave()"
   ]
  },
  {
   "cell_type": "markdown",
   "metadata": {},
   "source": [
    "# libs.atmosfera"
   ]
  },
  {
   "cell_type": "markdown",
   "metadata": {},
   "source": [
    "## libs.atmosfera.Atmosfera"
   ]
  },
  {
   "cell_type": "markdown",
   "metadata": {},
   "source": [
    "Recebe um objeto grade.Grade formatado para o processamento dos métodos"
   ]
  },
  {
   "cell_type": "markdown",
   "metadata": {},
   "source": [
    "#### Instancia"
   ]
  },
  {
   "cell_type": "code",
   "execution_count": 13,
   "metadata": {},
   "outputs": [],
   "source": [
    "u = os.path.join(os.getcwd(), \"entrada\", \"dados\", \"uwnd.mon.mean.nc\")\n",
    "v = os.path.join(os.getcwd(), \"entrada\", \"dados\", \"vwnd.mon.mean.nc\")"
   ]
  },
  {
   "cell_type": "code",
   "execution_count": 14,
   "metadata": {},
   "outputs": [],
   "source": [
    "u_fit = grade.fit(u)\n",
    "v_fit = grade.fit(v)"
   ]
  },
  {
   "cell_type": "code",
   "execution_count": 15,
   "metadata": {
    "jupyter": {
     "source_hidden": true
    }
   },
   "outputs": [],
   "source": [
    "# restringindo a latitude pra reduzir o tempo de processamento\n",
    "v_fit.dataset = v_fit.dataset.sel(lat = slice(-10, -25))\n",
    "u_fit.dataset = u_fit.dataset.sel(lat = slice(-10, -25))\n",
    "\n",
    "# restringindo o level pro cálculo de divergência\n",
    "v_fit.dataset = v_fit.dataset.sel(level = 500)\n",
    "u_fit.dataset = u_fit.dataset.sel(level = 500)"
   ]
  },
  {
   "cell_type": "code",
   "execution_count": 16,
   "metadata": {
    "jupyter": {
     "source_hidden": true
    }
   },
   "outputs": [],
   "source": [
    "u_atm = atm.Atmosfera(u_fit)\n",
    "v_atm = atm.Atmosfera(v_fit)"
   ]
  },
  {
   "cell_type": "markdown",
   "metadata": {},
   "source": [
    "#### Divergência"
   ]
  },
  {
   "cell_type": "code",
   "execution_count": 17,
   "metadata": {
    "jupyter": {
     "source_hidden": true
    }
   },
   "outputs": [
    {
     "data": {
      "text/html": [
       "<pre>&lt;xarray.Dataset&gt;\n",
       "Dimensions:  (lat: 7, lon: 144, time: 493)\n",
       "Coordinates:\n",
       "  * lat      (lat) float32 -10.0 -12.5 -15.0 -17.5 -20.0 -22.5 -25.0\n",
       "  * lon      (lon) float32 0.0 2.5 5.0 7.5 10.0 ... 350.0 352.5 355.0 357.5\n",
       "  * time     (time) datetime64[ns] 1979-01-01 1979-02-01 ... 2020-01-01\n",
       "Data variables:\n",
       "    div      (time, lat, lon) float64 -2.524e-06 -2.149e-06 ... -1.087e-06\n",
       "Attributes:\n",
       "    Conventions:    CF-1.0\n",
       "    title:          Monthly NCEP/DOE Reanalysis 2\n",
       "    history:        created 2002/03 by Hoop (netCDF2.3)\n",
       "    comments:       Data is from \\nNCEP/DOE AMIP-II Reanalysis (Reanalysis-2)...\n",
       "    platform:       Model\n",
       "    source:         NCEP/DOE AMIP-II Reanalysis (Reanalysis-2) Model\n",
       "    institution:    National Centers for Environmental Prediction\n",
       "    dataset_title:  NCEP-DOE AMIP-II Reanalysis\n",
       "    References:     https://www.esrl.noaa.gov/psd/data/gridded/data.ncep.rean...\n",
       "    source_url:     http://www.cpc.ncep.noaa.gov/products/wesley/reanalysis2/</pre>"
      ],
      "text/plain": [
       "<xarray.Dataset>\n",
       "Dimensions:  (lat: 7, lon: 144, time: 493)\n",
       "Coordinates:\n",
       "  * lat      (lat) float32 -10.0 -12.5 -15.0 -17.5 -20.0 -22.5 -25.0\n",
       "  * lon      (lon) float32 0.0 2.5 5.0 7.5 10.0 ... 350.0 352.5 355.0 357.5\n",
       "  * time     (time) datetime64[ns] 1979-01-01 1979-02-01 ... 2020-01-01\n",
       "Data variables:\n",
       "    div      (time, lat, lon) float64 -2.524e-06 -2.149e-06 ... -1.087e-06\n",
       "Attributes:\n",
       "    Conventions:    CF-1.0\n",
       "    title:          Monthly NCEP/DOE Reanalysis 2\n",
       "    history:        created 2002/03 by Hoop (netCDF2.3)\n",
       "    comments:       Data is from \\nNCEP/DOE AMIP-II Reanalysis (Reanalysis-2)...\n",
       "    platform:       Model\n",
       "    source:         NCEP/DOE AMIP-II Reanalysis (Reanalysis-2) Model\n",
       "    institution:    National Centers for Environmental Prediction\n",
       "    dataset_title:  NCEP-DOE AMIP-II Reanalysis\n",
       "    References:     https://www.esrl.noaa.gov/psd/data/gridded/data.ncep.rean...\n",
       "    source_url:     http://www.cpc.ncep.noaa.gov/products/wesley/reanalysis2/"
      ]
     },
     "execution_count": 17,
     "metadata": {},
     "output_type": "execute_result"
    }
   ],
   "source": [
    "u_atm.divergencia(v_atm)"
   ]
  },
  {
   "cell_type": "markdown",
   "metadata": {},
   "source": [
    "#### Vorticidade"
   ]
  },
  {
   "cell_type": "code",
   "execution_count": 18,
   "metadata": {
    "jupyter": {
     "source_hidden": true
    }
   },
   "outputs": [
    {
     "data": {
      "text/html": [
       "<pre>&lt;xarray.Dataset&gt;\n",
       "Dimensions:  (lat: 7, lon: 144, time: 493)\n",
       "Coordinates:\n",
       "  * lat      (lat) float32 -10.0 -12.5 -15.0 -17.5 -20.0 -22.5 -25.0\n",
       "  * lon      (lon) float32 0.0 2.5 5.0 7.5 10.0 ... 350.0 352.5 355.0 357.5\n",
       "  * time     (time) datetime64[ns] 1979-01-01 1979-02-01 ... 2020-01-01\n",
       "Data variables:\n",
       "    vort     (time, lat, lon) float64 -1.023e-05 -8.394e-06 ... 2.433e-06\n",
       "Attributes:\n",
       "    Conventions:    CF-1.0\n",
       "    title:          Monthly NCEP/DOE Reanalysis 2\n",
       "    history:        created 2002/03 by Hoop (netCDF2.3)\n",
       "    comments:       Data is from \\nNCEP/DOE AMIP-II Reanalysis (Reanalysis-2)...\n",
       "    platform:       Model\n",
       "    source:         NCEP/DOE AMIP-II Reanalysis (Reanalysis-2) Model\n",
       "    institution:    National Centers for Environmental Prediction\n",
       "    dataset_title:  NCEP-DOE AMIP-II Reanalysis\n",
       "    References:     https://www.esrl.noaa.gov/psd/data/gridded/data.ncep.rean...\n",
       "    source_url:     http://www.cpc.ncep.noaa.gov/products/wesley/reanalysis2/</pre>"
      ],
      "text/plain": [
       "<xarray.Dataset>\n",
       "Dimensions:  (lat: 7, lon: 144, time: 493)\n",
       "Coordinates:\n",
       "  * lat      (lat) float32 -10.0 -12.5 -15.0 -17.5 -20.0 -22.5 -25.0\n",
       "  * lon      (lon) float32 0.0 2.5 5.0 7.5 10.0 ... 350.0 352.5 355.0 357.5\n",
       "  * time     (time) datetime64[ns] 1979-01-01 1979-02-01 ... 2020-01-01\n",
       "Data variables:\n",
       "    vort     (time, lat, lon) float64 -1.023e-05 -8.394e-06 ... 2.433e-06\n",
       "Attributes:\n",
       "    Conventions:    CF-1.0\n",
       "    title:          Monthly NCEP/DOE Reanalysis 2\n",
       "    history:        created 2002/03 by Hoop (netCDF2.3)\n",
       "    comments:       Data is from \\nNCEP/DOE AMIP-II Reanalysis (Reanalysis-2)...\n",
       "    platform:       Model\n",
       "    source:         NCEP/DOE AMIP-II Reanalysis (Reanalysis-2) Model\n",
       "    institution:    National Centers for Environmental Prediction\n",
       "    dataset_title:  NCEP-DOE AMIP-II Reanalysis\n",
       "    References:     https://www.esrl.noaa.gov/psd/data/gridded/data.ncep.rean...\n",
       "    source_url:     http://www.cpc.ncep.noaa.gov/products/wesley/reanalysis2/"
      ]
     },
     "execution_count": 18,
     "metadata": {},
     "output_type": "execute_result"
    }
   ],
   "source": [
    "u_atm.vorticidade(v_atm)"
   ]
  },
  {
   "cell_type": "markdown",
   "metadata": {},
   "source": [
    "#### Magnitude"
   ]
  },
  {
   "cell_type": "code",
   "execution_count": 19,
   "metadata": {
    "jupyter": {
     "source_hidden": true
    }
   },
   "outputs": [
    {
     "data": {
      "text/html": [
       "<pre>&lt;xarray.Dataset&gt;\n",
       "Dimensions:    (lat: 7, lon: 144, time: 493)\n",
       "Coordinates:\n",
       "    level      float32 500.0\n",
       "  * lat        (lat) float32 -10.0 -12.5 -15.0 -17.5 -20.0 -22.5 -25.0\n",
       "  * lon        (lon) float32 0.0 2.5 5.0 7.5 10.0 ... 350.0 352.5 355.0 357.5\n",
       "  * time       (time) datetime64[ns] 1979-01-01 1979-02-01 ... 2020-01-01\n",
       "Data variables:\n",
       "    magnitude  (time, lat, lon) float32 4.849285 4.600016 ... 3.356567 2.4516494</pre>"
      ],
      "text/plain": [
       "<xarray.Dataset>\n",
       "Dimensions:    (lat: 7, lon: 144, time: 493)\n",
       "Coordinates:\n",
       "    level      float32 500.0\n",
       "  * lat        (lat) float32 -10.0 -12.5 -15.0 -17.5 -20.0 -22.5 -25.0\n",
       "  * lon        (lon) float32 0.0 2.5 5.0 7.5 10.0 ... 350.0 352.5 355.0 357.5\n",
       "  * time       (time) datetime64[ns] 1979-01-01 1979-02-01 ... 2020-01-01\n",
       "Data variables:\n",
       "    magnitude  (time, lat, lon) float32 4.849285 4.600016 ... 3.356567 2.4516494"
      ]
     },
     "execution_count": 19,
     "metadata": {},
     "output_type": "execute_result"
    }
   ],
   "source": [
    "u_atm.magnitude(v_atm)"
   ]
  }
 ],
 "metadata": {
  "kernelspec": {
   "display_name": "Python 3",
   "language": "python",
   "name": "python3"
  },
  "language_info": {
   "codemirror_mode": {
    "name": "ipython",
    "version": 3
   },
   "file_extension": ".py",
   "mimetype": "text/x-python",
   "name": "python",
   "nbconvert_exporter": "python",
   "pygments_lexer": "ipython3",
   "version": "3.8.5"
  }
 },
 "nbformat": 4,
 "nbformat_minor": 4
}
